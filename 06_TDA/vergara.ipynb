{
 "cells": [
  {
   "cell_type": "markdown",
   "id": "6ff30661",
   "metadata": {},
   "source": [
    "# Práctico 6: Estructuras de datos complejas"
   ]
  },
  {
   "cell_type": "markdown",
   "id": "26d3427c",
   "metadata": {},
   "source": [
    "#### 1) Dado el diccionario precios_frutas \n",
    "   \n",
    "`precios_frutas = {'Banana': 1200, 'Ananá': 2500, 'Melón': 3000, 'Uva': 1450} `\n",
    "\n",
    "Añadir las siguientes frutas con sus respectivos precios: \n",
    "* Naranja = 1200 \n",
    "* Manzana = 1500 \n",
    "* Pera = 2300"
   ]
  },
  {
   "cell_type": "code",
   "execution_count": 39,
   "id": "3a34c03b",
   "metadata": {},
   "outputs": [
    {
     "name": "stdout",
     "output_type": "stream",
     "text": [
      "{'Banana': 1200, 'Ananá': 2500, 'Melón': 3000, 'Uva': 1450, 'Naranja': 1200, 'Manzana': 1500, 'Pera': 2300}\n"
     ]
    }
   ],
   "source": [
    "precios_frutas = {'Banana': 1200, 'Ananá': 2500, 'Melón': 3000, 'Uva': 1450}\n",
    "\n",
    "# precios_frutas[\"Naranja\"] = 1200\n",
    "# precios_frutas[\"Manzana\"] = 1500\n",
    "# precios_frutas[\"Pera\"] = 2300\n",
    "\n",
    "# metodo update para \"concatenar\" mas facilmente\n",
    "precios_frutas.update({\n",
    "    \"Naranja\": 1200,\n",
    "    \"Manzana\": 1500,\n",
    "    \"Pera\": 2300\n",
    "})\n",
    "\n",
    "print(precios_frutas)"
   ]
  },
  {
   "cell_type": "markdown",
   "id": "07862e12",
   "metadata": {},
   "source": [
    "#### 2) Siguiendo con el diccionario precios_frutas que resulta luego de ejecutar el código desarrollado en el punto anterior, actualizar los precios de las siguientes frutas: \n",
    "\n",
    "* Banana = 1330 \n",
    "* Manzana = 1700 \n",
    "* Melón = 2800 "
   ]
  },
  {
   "cell_type": "code",
   "execution_count": 40,
   "id": "bb7db095",
   "metadata": {},
   "outputs": [
    {
     "name": "stdout",
     "output_type": "stream",
     "text": [
      "{'Banana': 1330, 'Ananá': 2500, 'Melón': 2800, 'Uva': 1450, 'Naranja': 1200, 'Manzana': 1700, 'Pera': 2300}\n"
     ]
    }
   ],
   "source": [
    "precios_frutas = {'Banana': 1200, 'Ananá': 2500, 'Melón': 3000, 'Uva': 1450, 'Naranja': 1200, 'Manzana': 1500, 'Pera': 2300}\n",
    "\n",
    "# precios_frutas[\"Banana\"] = 1330\n",
    "# precios_frutas[\"Manzana\"] = 1700\n",
    "# precios_frutas[\"Melón\"] = 2800\n",
    "\n",
    "# unpacking del mismo dict y update de los keys existentes\n",
    "precios_frutas = {\n",
    "    **precios_frutas,\n",
    "    \"Banana\": 1330,\n",
    "    \"Manzana\": 1700,\n",
    "    \"Melón\": 2800\n",
    "}\n",
    "\n",
    "print(precios_frutas)"
   ]
  },
  {
   "cell_type": "markdown",
   "id": "f8c2bd52",
   "metadata": {},
   "source": [
    "#### 3) Siguiendo con el diccionario precios_frutas que resulta luego de ejecutar el código desarrollado en el punto anterior, crear una lista que contenga únicamente las frutas sin los precios. "
   ]
  },
  {
   "cell_type": "code",
   "execution_count": 41,
   "id": "f2962a89",
   "metadata": {},
   "outputs": [
    {
     "name": "stdout",
     "output_type": "stream",
     "text": [
      "['Banana', 'Ananá', 'Melón', 'Uva', 'Naranja', 'Manzana', 'Pera']\n"
     ]
    }
   ],
   "source": [
    "precios_frutas = {'Banana': 1330, 'Ananá': 2500, 'Melón': 2800, 'Uva': 1450, 'Naranja': 1200, 'Manzana': 1700, 'Pera': 2300}\n",
    "\n",
    "lista_frutas = list(precios_frutas.keys())\n",
    "\n",
    "print(lista_frutas)"
   ]
  },
  {
   "cell_type": "markdown",
   "id": "9eb05597",
   "metadata": {},
   "source": [
    "#### 4) Escribí un programa que permita almacenar y consultar números telefónicos. \n",
    "\n",
    "* Permití al usuario cargar 5 contactos con su nombre como clave y número como valor. \n",
    "* Luego, pedí un nombre y mostrale el número asociado, si existe. "
   ]
  },
  {
   "cell_type": "code",
   "execution_count": null,
   "id": "6a612746",
   "metadata": {},
   "outputs": [],
   "source": [
    "contactos = {}\n",
    "cantidad_contactos = 2\n",
    "\n",
    "while len(contactos) < cantidad_contactos :\n",
    "    nombre_contacto = input(\"Ingrese nombre de contacto: \")\n",
    "    \n",
    "    if nombre_contacto in contactos:\n",
    "        print(\"Error: Contacto existente. Intente nuevamente\")\n",
    "        continue\n",
    "    numero_contacto = input(\"Ingrese numero de contacto: \")\n",
    "\n",
    "    contactos[nombre_contacto] = numero_contacto\n",
    "print(contactos)\n",
    "\n",
    "consulta_usuario = input(\"Ingrese el nombre para la consulta: \")\n",
    "\n",
    "print(contactos[consulta_usuario])\n",
    "\n"
   ]
  },
  {
   "cell_type": "markdown",
   "id": "cfa86582",
   "metadata": {},
   "source": [
    "#### 5) Solicita al usuario una frase e imprime: \n",
    "\n",
    "* Las palabras únicas (usando un set). \n",
    "* Un diccionario con la cantidad de veces que aparece cada palabra."
   ]
  },
  {
   "cell_type": "code",
   "execution_count": null,
   "id": "ab6be2a3",
   "metadata": {},
   "outputs": [
    {
     "name": "stdout",
     "output_type": "stream",
     "text": [
      "Lista sin duplicados: {'hola', 'chau'}\n",
      "Diccionario de palabras + cantidades: {'hola': 2, 'chau': 2}\n"
     ]
    }
   ],
   "source": [
    "frase_usuario = input(\"Ingrese una frase: \")\n",
    "\n",
    "frase_sin_duplicados = set(frase_usuario.split())\n",
    "\n",
    "lista = list(frase_usuario.split())\n",
    "\n",
    "diccionario = {}\n",
    "\n",
    "# este codigo se puede volver muy lento porque por cada iteracion del for, recorre toda la lista con count.\n",
    "# for palabra in lista:\n",
    "#     diccionario[palabra] = lista.count(palabra)\n",
    "\n",
    "# por cada vuelta del for tomamos la palabra y la insertamos en el dict, si no existe, se agrega y le sumamos 1 al value, si ya existe, solo \n",
    "# sumamos 1 al value. Eso permite recorrer solo una vez la lista y no recorrerla multiples veces con el metodo count\n",
    "for palabra in lista:\n",
    "    diccionario[palabra] = diccionario.get(palabra, 0) + 1 \n",
    "\n",
    "print(f\"Lista sin duplicados: {frase_sin_duplicados}\")\n",
    "\n",
    "print(f\"Diccionario de palabras + cantidades: {diccionario}\")"
   ]
  },
  {
   "cell_type": "markdown",
   "id": "9bb18c7f",
   "metadata": {},
   "source": [
    "#### 6) Permití ingresar los nombres de 3 alumnos, y para cada uno una tupla de 3 notas. Luego, mostrá el promedio de cada alumno."
   ]
  },
  {
   "cell_type": "code",
   "execution_count": 34,
   "id": "8f0d6322",
   "metadata": {},
   "outputs": [
    {
     "name": "stdout",
     "output_type": "stream",
     "text": [
      "Listado de alumnos: {'xavier': (1.0, 2.0, 3.0), 'mica': (2.0, 3.0, 4.0)}\n",
      "Promedios: {'xavier': 2.0, 'mica': 3.0}\n"
     ]
    }
   ],
   "source": [
    "alumnos = {}\n",
    "\n",
    "for i in range(2):\n",
    "    alumno = input(\"Ingrese el nombre del alumno: \")\n",
    "    notas = (float(input(\"Ingrese primera nota: \")), \n",
    "             float(input(\"Ingrese segunda nota: \")), \n",
    "             float(input(\"Ingrese tercera nota: \"))\n",
    "             )\n",
    "    alumnos[alumno] = notas \n",
    "\n",
    "# diccionario con promedios\n",
    "promedios = {}\n",
    "for alumno in alumnos:\n",
    "    promedios[alumno] = sum(alumnos[alumno]) / len(alumnos[alumno])\n",
    "\n",
    "print(f\"Listado de alumnos: {alumnos}\")\n",
    "print(f\"Promedios: {promedios}\")"
   ]
  },
  {
   "cell_type": "markdown",
   "id": "0e984014",
   "metadata": {},
   "source": [
    "#### 7) Dado dos sets de números, representando dos listas de estudiantes que aprobaron Parcial 1 y Parcial 2: \n",
    "\n",
    "* Mostrá los que aprobaron ambos parciales. \n",
    "* Mostrá los que aprobaron solo uno de los dos. \n",
    "* Mostrá la lista total de estudiantes que aprobaron al menos un parcial (sin repetir)"
   ]
  },
  {
   "cell_type": "code",
   "execution_count": 37,
   "id": "53586320",
   "metadata": {},
   "outputs": [
    {
     "name": "stdout",
     "output_type": "stream",
     "text": [
      "Los siguientes alumnos han aprobado ambos parciales: {'Julieta', 'Josefina', 'Juana', 'Damian', 'Ivan', 'Rosario'}\n",
      "Los siguientes alumnos que solo aprobaron un parcial: {'Eduardo', 'Martin', 'Violeta', 'Micaela', 'Lucas', 'Yanina', 'Miguel', 'Jose', 'Rocio', 'Ruben'}\n",
      "Los siguientes alumnos han aprobado al menos un parcial {'Lucas', 'Jose', 'Damian', 'Ivan', 'Rosario', 'Ruben', 'Eduardo', 'Martin', 'Violeta', 'Micaela', 'Julieta', 'Yanina', 'Josefina', 'Juana', 'Miguel', 'Rocio'}\n"
     ]
    }
   ],
   "source": [
    "parcial_1 = {\"Josefina\", \"Martin\", \"Ivan\", \"Violeta\", \"Juana\", \"Jose\", \"Damian\", \"Rocio\", \"Rosario\", \"Miguel\", \"Julieta\"}\n",
    "parcial_2 = {\"Josefina\", \"Lucas\", \"Ivan\", \"Ruben\", \"Juana\", \"Micaela\", \"Damian\", \"Yanina\", \"Rosario\", \"Eduardo\", \"Julieta\"}\n",
    "\n",
    "# ambos parciales (interseccion)\n",
    "ambos_parciales = parcial_1 & parcial_2\n",
    "print(f\"Los siguientes alumnos han aprobado ambos parciales: {ambos_parciales}\")\n",
    "# solo uno de los dos (diferencia simetrica)\n",
    "solo_uno = parcial_1 ^ parcial_2\n",
    "print(f\"Los siguientes alumnos que solo aprobaron un parcial: {solo_uno}\")\n",
    "# al menos un parcial (union)\n",
    "al_menos_uno = parcial_1 | parcial_2\n",
    "print(f\"Los siguientes alumnos han aprobado al menos un parcial {al_menos_uno}\")"
   ]
  },
  {
   "cell_type": "markdown",
   "id": "9fa5d26b",
   "metadata": {},
   "source": [
    "#### 8) Armá un diccionario donde las claves sean nombres de productos y los valores su stock. \n",
    "\n",
    "Permití al usuario: \n",
    "* Consultar el stock de un producto ingresado. \n",
    "* Agregar unidades al stock si el producto ya existe. \n",
    "* Agregar un nuevo producto si no existe."
   ]
  },
  {
   "cell_type": "code",
   "execution_count": null,
   "id": "ced65af2",
   "metadata": {},
   "outputs": [],
   "source": [
    "stock = {\n",
    "    \"monitor\": 150,\n",
    "    \"teclado\": 80,\n",
    "    \"mouse\": 290,\n",
    "    \"webcam\": 18,\n",
    "    \"parlante\": 0,\n",
    "    \"motherboard\": 1090  \n",
    "}\n",
    "\n",
    "menu_opciones = [\"1. Consultar stock de producto\",\n",
    "                 \"2. Agregar unidades al stock\", \n",
    "                 \"3. Salir\"]\n",
    "\n",
    "while True:\n",
    "    # menu rendering\n",
    "    for opciones in menu_opciones:\n",
    "        print(opciones)\n",
    "\n",
    "    opcion_usuario = input(\"Ingrese que operacion desea realizar: (1, 2, 3)\")\n",
    "    \n",
    "    match opcion_usuario:\n",
    "        case \"1\":\n",
    "            producto_usuario = input(\"Ingrese el producto que desea consultar: \").lower()\n",
    "            cantidad = stock[producto_usuario]\n",
    "            print(\"- - - - - - - - - -\")\n",
    "            print(f\"Producto: {producto_usuario}\\nCantidad: {cantidad}\")\n",
    "            print(\"- - - - - - - - - -\")\n",
    "        case \"2\":\n",
    "            producto_usuario = input(\"Ingrese el producto al que desea agregarle stock: \").lower()\n",
    "            unidades = int(input(\"Ingrese la cantidad de unidades que desea agregar:\"))\n",
    "            stock[producto_usuario] = stock.get(producto_usuario, 0) + unidades # agrega producto si no existe e inicializa su cantidad\n",
    "            print(f\"Stock actualizado: {stock}\")\n",
    "        case \"3\":\n",
    "            print(\"Hasta luego!\")\n",
    "            break\n"
   ]
  },
  {
   "cell_type": "markdown",
   "id": "d5c345d7",
   "metadata": {},
   "source": [
    "#### 9) Creá una agenda donde las claves sean tuplas de (día, hora) y los valores sean eventos. \n",
    "\n",
    "* Permití consultar qué actividad hay en cierto día y hora."
   ]
  },
  {
   "cell_type": "code",
   "execution_count": null,
   "id": "b27b17b1",
   "metadata": {},
   "outputs": [],
   "source": [
    "agenda = {\n",
    "    (\"lunes\", \"19:00\"): \"consulta organizacion empresarial\",\n",
    "    (\"martes\", \"20:30\"): \"consulta matematica\",\n",
    "    (\"miercoles\", \"21:15\"): \"consulta ayso\",\n",
    "    (\"jueves\", \"19:50\"): \"consulta programacion 1\"\n",
    "}\n",
    "\n",
    "menu_opciones = [\"1. Consultar agenda\", \"2. Salir\"]\n",
    "\n",
    "while True:\n",
    "    # renderizar menu\n",
    "    for opciones in menu_opciones:\n",
    "        print(opciones)\n",
    "    \n",
    "    opcion_usuario = input(\"Ingrese 1 para consultar agenda, 2 para salir: \")\n",
    "\n",
    "    match opcion_usuario:\n",
    "        case \"1\":\n",
    "            consulta_usuario = (input(\"Ingrese el dia que desea consultar: \").lower().strip(), # eliminar espacios en blanco en el comienzo y final del input\n",
    "                                input(\"Ingrese horario (hh:mm): \").strip())\n",
    "            if consulta_usuario not in agenda:\n",
    "                print(\"- - - -\")\n",
    "                print(\"Entrada desocupada\")\n",
    "                print(\"- - - -\")\n",
    "            else:\n",
    "                print(\"- - - -\")\n",
    "                print(agenda[consulta_usuario])\n",
    "                print(\"- - - -\")\n",
    "        case \"2\":\n",
    "            print(\"Hasta luego!\")\n",
    "            break"
   ]
  },
  {
   "cell_type": "markdown",
   "id": "9f14c23d",
   "metadata": {},
   "source": [
    "#### 10) Dado un diccionario que mapea nombres de países con sus capitales, construí un nuevo diccionario donde: \n",
    "* Las capitales sean las claves. \n",
    "* Los países sean los valores."
   ]
  },
  {
   "cell_type": "code",
   "execution_count": null,
   "id": "64e5afa4",
   "metadata": {},
   "outputs": [
    {
     "name": "stdout",
     "output_type": "stream",
     "text": [
      "Original: {'Argentina': 'Buenos Aires', 'Chile': 'Santiago', 'Peru': 'Lima', 'Venezuela': 'Caracas', 'Colombia': 'Bogota', 'Ecuador': 'Quito', 'Bolivia': 'La paz'}\n",
      "Invertido: {'Buenos Aires': 'Argentina', 'Santiago': 'Chile', 'Lima': 'Peru', 'Caracas': 'Venezuela', 'Bogota': 'Colombia', 'Quito': 'Ecuador', 'La paz': 'Bolivia'}\n"
     ]
    }
   ],
   "source": [
    "original = {\n",
    "    \"Argentina\": \"Buenos Aires\",\n",
    "    \"Chile\": \"Santiago\",\n",
    "    \"Peru\": \"Lima\",\n",
    "    \"Venezuela\": \"Caracas\",\n",
    "    \"Colombia\": \"Bogota\",\n",
    "    \"Ecuador\": \"Quito\",\n",
    "    \"Bolivia\": \"La paz\"    \n",
    "}\n",
    "\n",
    "invertido = {}\n",
    "\n",
    "paises = list(original.keys())\n",
    "capitales = list(original.values())\n",
    "\n",
    "for i in range(len(original)):\n",
    "    invertido[capitales[i]] = paises[i]\n",
    "\n",
    "print(f\"Original: {original}\")\n",
    "print(f\"Invertido: {invertido}\")\n",
    "\n",
    "# investigar solucion con dict() o .items()"
   ]
  }
 ],
 "metadata": {
  "kernelspec": {
   "display_name": "Python 3",
   "language": "python",
   "name": "python3"
  },
  "language_info": {
   "codemirror_mode": {
    "name": "ipython",
    "version": 3
   },
   "file_extension": ".py",
   "mimetype": "text/x-python",
   "name": "python",
   "nbconvert_exporter": "python",
   "pygments_lexer": "ipython3",
   "version": "3.13.5"
  }
 },
 "nbformat": 4,
 "nbformat_minor": 5
}
