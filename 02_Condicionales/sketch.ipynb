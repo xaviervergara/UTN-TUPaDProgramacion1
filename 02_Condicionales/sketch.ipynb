{
 "cells": [
  {
   "cell_type": "code",
   "execution_count": 6,
   "id": "17ee4e68",
   "metadata": {},
   "outputs": [],
   "source": [
    "# 1) Escribir un programa que solicite la edad del usuario. Si el usuario es mayor de 18 años, deberá mostrar un mensaje en pantalla que diga “Es mayor de edad”.\n",
    "\n",
    "edad_usuario = int(input(\"Ingrese su edad\"))\n",
    "\n",
    "if edad_usuario > 18:\n",
    "    print(\"Es mayor de edad\")\n"
   ]
  },
  {
   "cell_type": "code",
   "execution_count": 9,
   "id": "c34dcf52",
   "metadata": {},
   "outputs": [
    {
     "name": "stdout",
     "output_type": "stream",
     "text": [
      "Aprobado\n"
     ]
    }
   ],
   "source": [
    "# 2) Escribir un programa que solicite su nota al usuario. Si la nota es mayor o igual a 6, deberá \n",
    "# mostrar por pantalla un mensaje que diga “Aprobado”; en caso contrario deberá mostrar el mensaje “Desaprobado”.\n",
    "\n",
    "nota_usuario = int(input(\"Ingrese su nota\"))\n",
    "\n",
    "if nota_usuario >= 6:\n",
    "    print(\"Aprobado\")\n",
    "else: print(\"Desaprobado\")"
   ]
  },
  {
   "cell_type": "code",
   "execution_count": 15,
   "id": "fae32c04",
   "metadata": {},
   "outputs": [
    {
     "name": "stdout",
     "output_type": "stream",
     "text": [
      "Por favor, ingrese un número par\n"
     ]
    }
   ],
   "source": [
    "# 3) Escribir un programa que permita ingresar solo números pares. Si el usuario ingresa un número par, \n",
    "# imprimir por en pantalla el mensaje \"Ha ingresado un número par\"; en caso contrario, imprimir por pantalla \n",
    "# \"Por favor, ingrese un número par\". Nota: investigar el uso del operador de módulo (%) en Python para evaluar si un número es par o impar.\n",
    "\n",
    "num = int(input(\"Ingrese un numero par\"))\n",
    "\n",
    "if num % 2 == 0:\n",
    "    print(\"Ha ingresado un número par\")\n",
    "else: print(\"Por favor, ingrese un número par\")    "
   ]
  },
  {
   "cell_type": "code",
   "execution_count": 18,
   "id": "540ebbd9",
   "metadata": {},
   "outputs": [
    {
     "name": "stdout",
     "output_type": "stream",
     "text": [
      "Adulto/a joven\n"
     ]
    }
   ],
   "source": [
    "# 4) Escribir un programa que solicite al usuario su edad e imprima por pantalla a cuál de las siguientes categorías pertenece: \n",
    "# ● Niño/a: menor de 12 años. \n",
    "# ● Adolescente: mayor o igual que 12 años y menor que 18 años. \n",
    "# ● Adulto/a joven: mayor o igual que 18 años y menor que 30 años. \n",
    "# ● Adulto/a: mayor o igual que 30 años.\n",
    "\n",
    "edad_usuario = int(input(\"Ingrese su edad\"))\n",
    "\n",
    "if edad_usuario < 12:\n",
    "    print(\"Niño/a\")\n",
    "elif edad_usuario >= 12 and edad_usuario < 18:\n",
    "    print(\"Adolescente\")\n",
    "elif edad_usuario >= 18 and edad_usuario < 30:\n",
    "    print(\"Adulto/a joven\")\n",
    "else: \n",
    "    print(\"Adulto/a\") #Podria hacer un elif y evaluar la condicion edad_usuario >= 30, pero en este caso particular el else funciona igual y me ahorro una evaluacion."
   ]
  },
  {
   "cell_type": "code",
   "execution_count": 2,
   "id": "00cd5aaf",
   "metadata": {},
   "outputs": [
    {
     "name": "stdout",
     "output_type": "stream",
     "text": [
      "Por favor, ingrese una contraseña de entre 8 y 14 caracteres\n"
     ]
    }
   ],
   "source": [
    "# 5) Escribir un programa que permita introducir contraseñas de entre 8 y 14 caracteres \n",
    "# (incluyendo 8 y 14). Si el usuario ingresa una contraseña de longitud adecuada, imprimir por \n",
    "# pantalla el mensaje \"Ha ingresado una contraseña correcta\"; en caso contrario, imprimir por \n",
    "# pantalla \"Por favor, ingrese una contraseña de entre 8 y 14 caracteres\". Nota: investigue el uso \n",
    "# de la función len() en Python para evaluar la cantidad de elementos que tiene un iterable tal \n",
    "# como una lista o un string.\n",
    "\n",
    "contrasena_usuario = str(input(\"Introduzca su contraseña: debe tener entre 8 y 14 caracteres\")) #conversión a type string por si se ingresan numeros\n",
    "longitud_contrasena = len(contrasena_usuario)\n",
    "\n",
    "if 8 <= longitud_contrasena <= 14:\n",
    "    print(\"Ha ingresado una contrseña correcta\")\n",
    "else:\n",
    "    print(\"Por favor, ingrese una contraseña de entre 8 y 14 caracteres\")    "
   ]
  },
  {
   "cell_type": "code",
   "execution_count": 4,
   "id": "93717c66",
   "metadata": {},
   "outputs": [
    {
     "name": "stdout",
     "output_type": "stream",
     "text": [
      "MODA: 17\n",
      "MEDIANA: 50\n",
      "MEDIA: 50\n"
     ]
    }
   ],
   "source": [
    "# 6) escribir un programa que tome la lista numeros_aleatorios, calcule su moda, su mediana \n",
    "# y su media y las compare para determinar si hay sesgo positivo, negativo o no hay sesgo. \n",
    "# Imprimir el resultado por pantalla.\n",
    "\n",
    "from statistics import mode, median, mean\n",
    "import random\n",
    "\n",
    "numeros_aleatorios = [random.randint(1, 100) for i in range(50)]\n",
    "\n",
    "moda = round(mode(numeros_aleatorios))\n",
    "mediana = round(median(numeros_aleatorios))\n",
    "media = round(mean(numeros_aleatorios)) #redondeo para aumentar las chances de que salga \"sin sesgo\", pero no va a suceder...\n",
    "\n",
    "print(f\"MODA: {moda}\\nMEDIANA: {mediana}\\nMEDIA: {media}\")\n",
    "\n",
    "if moda == mediana == media: #comparo así para no escribir de más, aunque no se compare moda con media directamente, si moda == mediana, al comparar mediana y media las estoy comparando indirectamente.\n",
    "    print(\"Sin sesgo\")\n",
    "elif media > mediana > moda: #siguiendo la misma linea resumo las comparaciones. \n",
    "    print(\"Sesgo positivo\")\n",
    "elif media < mediana < moda:\n",
    "    print(\"Sesgo negativo\")"
   ]
  },
  {
   "cell_type": "code",
   "execution_count": 6,
   "id": "6da88f3a",
   "metadata": {},
   "outputs": [
    {
     "name": "stdout",
     "output_type": "stream",
     "text": [
      "cuek\n"
     ]
    }
   ],
   "source": [
    "# 7) Escribir un programa que solicite una frase o palabra al usuario. Si el string ingresado termina con vocal,\n",
    "# añadir un signo de exclamación al final e imprimir el string resultante por pantalla; en caso contrario,\n",
    "# dejar el string tal cual lo ingresó el usuario e imprimirlo por pantalla.\n",
    "\n",
    "palabras_usuario = input(\"Ingrese una palabra o frase\")\n",
    "\n",
    "ultima_letra = palabras_usuario[-1]\n",
    "\n",
    "if ultima_letra == \"a\" or ultima_letra == \"e\" or ultima_letra == \"i\" or ultima_letra == \"o\" or ultima_letra == \"u\":\n",
    "    print(f\"{palabras_usuario}!\")\n",
    "else:\n",
    "    print(palabras_usuario)"
   ]
  },
  {
   "cell_type": "code",
   "execution_count": 18,
   "id": "42f08dab",
   "metadata": {},
   "outputs": [
    {
     "name": "stdout",
     "output_type": "stream",
     "text": [
      "Xavier\n"
     ]
    }
   ],
   "source": [
    "# 8) Escribir un programa que solicite al usuario que ingrese su nombre y el número 1, 2 o 3 dependiendo de la opción que desee:\n",
    "# 1. Si quiere su nombre en mayúsculas. Por ejemplo: PEDRO.\n",
    "# 2. Si quiere su nombre en minúsculas. Por ejemplo: pedro.\n",
    "# 3. Si quiere su nombre con la primera letra mayúscula. Por ejemplo: Pedro.\n",
    "\n",
    "nombre_usuario = input(\"Ingrese su nombre\")\n",
    "opcion_numerica = int(input(\"Ingrese un numero del 1 al 3\"))\n",
    "\n",
    "match opcion_numerica:\n",
    "  case 1:\n",
    "    print(nombre_usuario.upper())\n",
    "  case 2:\n",
    "    print(nombre_usuario.lower())\n",
    "  case 3:\n",
    "    print(f\"{nombre_usuario[0].upper()}{nombre_usuario[1:]}\")\n",
    "  case _:\n",
    "    print(\"Error: debe ingresar un numero entre 1 y 3\")"
   ]
  },
  {
   "cell_type": "code",
   "execution_count": 51,
   "id": "04c90360",
   "metadata": {},
   "outputs": [
    {
     "name": "stdout",
     "output_type": "stream",
     "text": [
      "5.1\n",
      "Fuerte (Puede causar daños en estructuras débiles)\n"
     ]
    }
   ],
   "source": [
    "# 9) Escribir un programa que pida al usuario la magnitud de un terremoto, \n",
    "# clasifique la magnitud en una de las siguientes categorías según la escala \n",
    "# de Richter e imprima el resultado por pantalla:\n",
    "\n",
    "magnitud_usuario = float(input(\"Ingrese la magnitud del terremoto\"))\n",
    "\n",
    "print(magnitud_usuario)\n",
    "\n",
    "if magnitud_usuario < 3:\n",
    "    print(\"Muy leve (Imperceptible)\")\n",
    "elif 3 <= magnitud_usuario < 4:\n",
    "    print(\"Leve (Ligeramente perceptible)\")    \n",
    "elif 4 <= magnitud_usuario < 5:\n",
    "    print(\"Moderado (Sentido por personas, pero generalmente no causa daños)\")\n",
    "elif 5 <= magnitud_usuario < 6:\n",
    "    print(\"Fuerte (Puede causar daños en estructuras débiles)\")\n",
    "elif 6 <= magnitud_usuario < 7:\n",
    "    print(\"Muy fuerte (Puede causar daños significativos)\")\n",
    "elif magnitud_usuario >= 7:\n",
    "    print(\"Extremo (Puede causar graves daños a gran escala)\")\n",
    "    \n"
   ]
  },
  {
   "cell_type": "code",
   "execution_count": null,
   "id": "368e64eb",
   "metadata": {},
   "outputs": [
    {
     "name": "stdout",
     "output_type": "stream",
     "text": [
      "Invierno\n"
     ]
    }
   ],
   "source": [
    "# 10) Escribir un programa que pregunte al usuario en cuál hemisferio se encuentra (N/S), qué mes\n",
    "# del año es y qué día es. El programa deberá utilizar esa información para imprimir por pantalla\n",
    "# si el usuario se encuentra en otoño, invierno, primavera o verano.\n",
    "\n",
    "dia_usuario = int(input(\"Ingrese el día actual en formato numerico: 1, 2, 3...: \"))\n",
    "mes_usuario = int(input(\"Ingrese el mes actual en formato numerico: 1, 2, 3...: \"))\n",
    "\n",
    "if (not (1 <= dia_usuario <= 31)) or (not (1 <= mes_usuario <= 12)): # Validacion de dias, entre 1 y 31 (incluidos), meses, entre 1 y 12 (incluidos)\n",
    "  print(\"Error: día o mes inválido\")\n",
    "elif (dia_usuario == 31 and mes_usuario in (4, 6, 9, 11, 2)) or (dia_usuario == 30 and mes_usuario == 2): # Validacion fecha incoherente: si el dia es 31, no puede ser abril, junio, septiembre, etc..\n",
    "  print(\"El día no corresponde al mes ingresado\")\n",
    "else:\n",
    "  hemisferio_usuario = input(\"Ingrese el hemisferio donde se encuentra: N/S: \").lower() # Una vez validada la fecha preguntamos el hemisferio\n",
    "  if not (hemisferio_usuario in (\"n\", \"s\")): # Validacion hemisferio, usé \"in\" para no hacer not (hesmisferio_usuario == \"n\" or hesmisferio_usuario == \"s\"), es mas abreviado.\n",
    "    print(\"Error: Hemisferio incorrecto\")\n",
    "  else:    \n",
    "    periodo_1 = ((mes_usuario == 12 and dia_usuario >= 21) or mes_usuario == 1 or mes_usuario == 2 or (mes_usuario == 3 and dia_usuario <= 20))     # 21 dic hasta 20 marzo\n",
    "    periodo_2 = ((mes_usuario == 3 and dia_usuario >= 21) or mes_usuario == 4 or mes_usuario == 5 or (mes_usuario == 6 and dia_usuario <= 20))      # 21 marzo hasta 20 jun\n",
    "    periodo_3 = ((mes_usuario == 6 and dia_usuario >= 21) or mes_usuario == 7 or mes_usuario == 8 or (mes_usuario == 9 and dia_usuario <= 20))      # 21 jun hasta 20 spt\n",
    "    periodo_4 = ((mes_usuario == 9 and dia_usuario >= 21) or mes_usuario == 10 or mes_usuario == 11 or (mes_usuario == 12 and dia_usuario <= 20))   # 21 spt hasta 20 dic\n",
    "\n",
    "    if periodo_1:\n",
    "      if hemisferio_usuario == \"n\":\n",
    "          print(\"Invierno\")\n",
    "      else:\n",
    "          print(\"Verano\")\n",
    "    elif periodo_2:\n",
    "      if hemisferio_usuario == \"n\":\n",
    "          print(\"Primavera\")\n",
    "      else:\n",
    "          print(\"Otoño\")\n",
    "    elif periodo_3:\n",
    "      if hemisferio_usuario == \"n\":\n",
    "          print(\"Verano\")\n",
    "      else:\n",
    "          print(\"Invierno\")\n",
    "    elif periodo_4:\n",
    "      if hemisferio_usuario == \"n\":\n",
    "          print(\"Otoño\")\n",
    "      else:\n",
    "          print(\"Primavera\")"
   ]
  }
 ],
 "metadata": {
  "kernelspec": {
   "display_name": "Python 3",
   "language": "python",
   "name": "python3"
  },
  "language_info": {
   "codemirror_mode": {
    "name": "ipython",
    "version": 3
   },
   "file_extension": ".py",
   "mimetype": "text/x-python",
   "name": "python",
   "nbconvert_exporter": "python",
   "pygments_lexer": "ipython3",
   "version": "3.13.5"
  }
 },
 "nbformat": 4,
 "nbformat_minor": 5
}
