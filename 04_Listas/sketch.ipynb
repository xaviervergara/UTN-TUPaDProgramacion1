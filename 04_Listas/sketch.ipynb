{
 "cells": [
  {
   "cell_type": "markdown",
   "id": "bef0d171",
   "metadata": {},
   "source": [
    "### 1) Crear una lista con las notas de 10 estudiantes. \n",
    "* Mostrar la lista completa. \n",
    "* Calcular y mostrar el promedio. \n",
    "* Indicar la nota más alta y la más baja. "
   ]
  },
  {
   "cell_type": "code",
   "execution_count": null,
   "id": "339ba2a4",
   "metadata": {},
   "outputs": [],
   "source": [
    "notas = [1,2,3,4,5,6,7,8,9,10]\n",
    "notas_desordenadas = [5,1,10,29,1,2,8]\n",
    "\n",
    "contador = 0\n",
    "acc = 0\n",
    "\n",
    "for i in notas:\n",
    "    contador += 1\n",
    "    acc = acc + i\n",
    "\n",
    "# Mostrar la lista completa\n",
    "print(*notas, sep=\",\") # Usando unpacking operator, para poder mostrar los elementos sin corchetes.\n",
    "\n",
    "# Calcular promedio\n",
    "print(f\"Promedio notas: {acc / contador}\")\n",
    "\n",
    "# Calcular nota mas alta y mas baja\n",
    "nota_baja = notas[0]\n",
    "nota_alta = notas[0] \n",
    "\n",
    "for i in range(1, len(notas)):\n",
    "     if notas[i] < nota_baja:\n",
    "        nota_baja = notas[i]\n",
    "     if notas[i] > nota_alta:\n",
    "         nota_alta = notas[i]\n",
    "print(f\"Esta es la nota mas baja: {nota_baja}\\nEsta es la nota mas alta: {nota_alta}\")"
   ]
  },
  {
   "cell_type": "markdown",
   "id": "8b77780c",
   "metadata": {},
   "source": [
    "### 2) Pedir al usuario que cargue 5 productos en una lista. \n",
    "* Mostrar la lista ordenada alfabéticamente. Investigue el uso del método sorted(). \n",
    "* Preguntar al usuario qué producto desea eliminar y actualizar la lista."
   ]
  },
  {
   "cell_type": "code",
   "execution_count": null,
   "id": "abca1b3f",
   "metadata": {},
   "outputs": [],
   "source": [
    "carrito = []\n",
    "\n",
    "for i in range(5):\n",
    "   carrito.append(input(\"Ingrese un producto: \")) \n",
    "\n",
    "# Mostrar lista ordenada alfabeticamente\n",
    "carrito_ordenado = sorted(carrito)\n",
    "print(f\"Carrito ordenado alfabeticamente:\\n{carrito_ordenado}\")\n",
    "\n",
    "# Eliminar producto\n",
    "producto_a_eliminar = input(\"¿Qué producto desea eliminar?\")\n",
    "carrito_ordenado.remove(producto_a_eliminar)\n",
    "\n",
    "print(f\"Se ha eliminado {producto_a_eliminar}:\\nCarrito actualizado: {carrito_ordenado}\")\n"
   ]
  },
  {
   "cell_type": "markdown",
   "id": "1e8a3a08",
   "metadata": {},
   "source": [
    "### 3) Generar una lista con 15 números enteros al azar entre 1 y 100. \n",
    "* Crear una lista con los pares y otra con los impares. \n",
    "* Mostrar cuántos números tiene cada lista."
   ]
  },
  {
   "cell_type": "code",
   "execution_count": 23,
   "id": "bd15173c",
   "metadata": {},
   "outputs": [
    {
     "name": "stdout",
     "output_type": "stream",
     "text": [
      "Lista aleatoria:\n",
      "[32, 84, 57, 81, 46, 40, 5, 44, 82, 53, 25, 96, 61, 46, 48]\n",
      "Lista par: [32, 84, 46, 40, 44, 82, 96, 46, 48]\n",
      "Lista impar: [57, 81, 5, 53, 25, 61]\n"
     ]
    }
   ],
   "source": [
    "import random\n",
    "\n",
    "lista_aleatoria = []\n",
    "lista_par = []\n",
    "lista_impar = []\n",
    "\n",
    "for i in range(15):\n",
    "    lista_aleatoria.append(random.randint(1, 100))\n",
    "print(f\"Lista aleatoria:\\n{lista_aleatoria}\")\n",
    "\n",
    "for i in range(len(lista_aleatoria)):\n",
    "    if lista_aleatoria[i] % 2 == 0:\n",
    "        lista_par.append(lista_aleatoria[i])\n",
    "    else:\n",
    "        lista_impar.append(lista_aleatoria[i])\n",
    "    \n",
    "print(f\"Lista par: {lista_par}\\nLista impar: {lista_impar}\")    "
   ]
  },
  {
   "cell_type": "markdown",
   "id": "7feb973b",
   "metadata": {},
   "source": [
    "### 4) Dada una lista con valores repetidos: \n",
    "\n",
    "datos = [1, 3, 5, 3, 7, 1, 9, 5, 3]\n",
    "\n",
    "* Crear una nueva lista sin elementos repetidos. \n",
    "* Mostrar el resultado. "
   ]
  },
  {
   "cell_type": "code",
   "execution_count": null,
   "id": "ce79d3f3",
   "metadata": {},
   "outputs": [
    {
     "name": "stdout",
     "output_type": "stream",
     "text": [
      "Lista sin repetidos: [1, 3, 5, 7, 9]\n"
     ]
    }
   ],
   "source": [
    "# Este codigo sin comentar es mi resolución, el resto de codigos comentados los investigue en internet y los guardo para estudiarlos\n",
    "\n",
    "datos = [1, 3, 5, 3, 7, 1, 9, 5, 3]\n",
    "datos_sin_repetir = []\n",
    "\n",
    "for i in range(len(datos)):\n",
    "    for j in range(i + 1 , len(datos)):\n",
    "        if datos[i] != datos[j] and (datos[i] not in datos_sin_repetir): # Algoritmo burbuja + comprobacion de existencia en mi array de no-repetidos\n",
    "            datos_sin_repetir.append(datos[i])\n",
    "print(f\"Lista sin repetidos: {datos_sin_repetir}\")         \n",
    "\n",
    "\n",
    "# Comparar de forma linear (Codigo investigado, no es de mi autoria)\n",
    "\n",
    "# for i in range(len(datos)):\n",
    "#     repetido = False\n",
    "#     for j in range(len(datos_sin_repetir)): # la primera no va a entrar porque range = 0\n",
    "#         if datos[i] == datos_sin_repetir[j]:     \n",
    "#             repetido = True  \n",
    "#     if repetido == False:\n",
    "#         datos_sin_repetir.append(datos[i])\n",
    "# print(datos_sin_repetir)\n",
    "\n",
    "\n",
    "# (Codigo investigado, no es de mi autoria)\n",
    "\n",
    "# for num in datos:\n",
    "#     if num not in datos_sin_repetir:\n",
    "#         datos_sin_repetir.append(num)\n",
    "# print(datos_sin_repetir)"
   ]
  },
  {
   "cell_type": "markdown",
   "id": "f034bbc6",
   "metadata": {},
   "source": [
    "### 5) Crear una lista con los nombres de 8 estudiantes presentes en clase. \n",
    "* Preguntar al usuario si quiere agregar un nuevo estudiante o eliminar uno existente. \n",
    "* Mostrar la lista final actualizada."
   ]
  },
  {
   "cell_type": "code",
   "execution_count": 141,
   "id": "985a644d",
   "metadata": {},
   "outputs": [
    {
     "name": "stdout",
     "output_type": "stream",
     "text": [
      "Lista presentes: ['Mario', 'Nicolas', 'Juan Pablo', 'Lucia', 'Damian', 'Violeta', 'Jazmin']\n"
     ]
    }
   ],
   "source": [
    "lista_presentes = [\"Mario\", \"Nicolas\", \"Juan Pablo\", \"Lucia\", \"Damian\", \"Violeta\", \"Jazmin\", \"Marcelo\"]\n",
    "\n",
    "accion_usuario = input(\"Escriba 'Agregar', para agregar un nuevo estudiante. Escriba 'Eliminar', para quitar un estudiante\").lower()\n",
    "\n",
    "if accion_usuario != \"eliminar\" and accion_usuario != \"agregar\":\n",
    "    print(\"Error: acción invalida\" )\n",
    "else:\n",
    "    if accion_usuario == \"agregar\":\n",
    "        lista_presentes.append(input(\"Escriba el nombre del alumno que desea agregar\"))\n",
    "    else:\n",
    "        lista_presentes.remove(input(\"Escriba el nombre del alumno que desea eliminar\"))\n",
    "print(f\"Lista presentes: {lista_presentes}\")\n",
    "\n"
   ]
  },
  {
   "cell_type": "markdown",
   "id": "886c242f",
   "metadata": {},
   "source": [
    "### 6) Dada una lista con 7 números, rotar todos los elementos una posición hacia la derecha (el último pasa a ser el primero).\n"
   ]
  },
  {
   "cell_type": "code",
   "execution_count": null,
   "id": "df5416fe",
   "metadata": {},
   "outputs": [
    {
     "name": "stdout",
     "output_type": "stream",
     "text": [
      "7 [1, 2, 3, 4, 5, 6]\n",
      "Lista rotada: [7, 1, 2, 3, 4, 5, 6]\n"
     ]
    }
   ],
   "source": [
    "lista_num = [1, 2, 3, 4, 5, 6, 7]\n",
    "ultimo_num = lista_num.pop()\n",
    "\n",
    "lista_num.insert(0, ultimo_num)\n",
    "print(f\"Lista rotada: {lista_num}\")\n"
   ]
  },
  {
   "cell_type": "markdown",
   "id": "9f1f4401",
   "metadata": {},
   "source": [
    "### 7) Crear una matriz (lista anidada) de 7x2 con las temperaturas mínimas y máximas de una semana. \n",
    "* Calcular el promedio de las mínimas y el de las máximas. \n",
    "* Mostrar en qué día se registró la mayor amplitud térmica."
   ]
  },
  {
   "cell_type": "code",
   "execution_count": null,
   "id": "d50d93d0",
   "metadata": {},
   "outputs": [
    {
     "name": "stdout",
     "output_type": "stream",
     "text": [
      "Lista semanal y sus temperaturas max y min: [['Lunes', 3, 28], ['Martes', 4, 41], ['Miercoles', 15, 36], ['Jueves', 33, 37], ['Viernes', 9, 18], ['Sabado', 4, 15], ['Domingo', 24, 45]]\n",
      "Promedio temperaturas maximas semanal: 31\n",
      "Dia con mayor amplitud semanal: Martes con 37 grados\n"
     ]
    }
   ],
   "source": [
    "import random\n",
    "\n",
    "semana = [[\"Lunes\"], [\"Martes\"], [\"Miercoles\"], [\"Jueves\"], [\"Viernes\"], [\"Sabado\"], [\"Domingo\"]]\n",
    "acc = 0\n",
    "amplitud_max = 0\n",
    "\n",
    "for i in range(7):\n",
    "    # Genero 2 temperaturas aleatorias\n",
    "    temp_1 = random.randint(0, 45)\n",
    "    temp_2 = random.randint(0, 45)\n",
    "    # Determino cual es la temperatura menor y la mayor\n",
    "    temp_mayor = max(temp_1, temp_2)\n",
    "    temp_menor = min(temp_1, temp_2)\n",
    "    # Construyo la lista con los 7 dias de la semana y sus temp maxima y minima\n",
    "    semana[i].extend([temp_menor, temp_mayor])\n",
    "    # Sacar promedio de maximas\n",
    "    acc = acc + semana[i][2]\n",
    "    # Calculo amplitud\n",
    "    dif = temp_mayor - temp_menor\n",
    "    # Me quedo con el maximo valor y guardo el dia en index\n",
    "    if dif > amplitud_max:\n",
    "        amplitud_max = dif\n",
    "        index = i\n",
    "\n",
    "print(f\"Lista semanal y sus temperaturas max y min: {semana}\")\n",
    "print(f\"Promedio temperaturas maximas semanal: {round(acc / (i + 1))}\")\n",
    "print(f\"Dia con mayor amplitud semanal: {semana[index][0]} con {amplitud_max} grados\")"
   ]
  },
  {
   "cell_type": "markdown",
   "id": "2eac865a",
   "metadata": {},
   "source": [
    "### 8) Crear una matriz con las notas de 5 estudiantes en 3 materias. \n",
    "* Mostrar el promedio de cada estudiante. \n",
    "* Mostrar el promedio de cada materia."
   ]
  },
  {
   "cell_type": "code",
   "execution_count": 3,
   "id": "fe6037c5",
   "metadata": {},
   "outputs": [
    {
     "name": "stdout",
     "output_type": "stream",
     "text": [
      "[] [] [] \n",
      "[] [] [] \n",
      "[] [] [] \n"
     ]
    }
   ],
   "source": [
    "matriz = [[[], [], []], [[], [], []], [[], [], []]]\n",
    "\n",
    "for fila in matriz:\n",
    "    for elemento in fila:\n",
    "        print(elemento, end=\" \")\n",
    "    print()"
   ]
  }
 ],
 "metadata": {
  "kernelspec": {
   "display_name": "Python 3",
   "language": "python",
   "name": "python3"
  },
  "language_info": {
   "codemirror_mode": {
    "name": "ipython",
    "version": 3
   },
   "file_extension": ".py",
   "mimetype": "text/x-python",
   "name": "python",
   "nbconvert_exporter": "python",
   "pygments_lexer": "ipython3",
   "version": "3.13.5"
  }
 },
 "nbformat": 4,
 "nbformat_minor": 5
}
