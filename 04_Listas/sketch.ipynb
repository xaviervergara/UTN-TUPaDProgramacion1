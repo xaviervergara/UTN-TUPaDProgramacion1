{
 "cells": [
  {
   "cell_type": "markdown",
   "id": "bef0d171",
   "metadata": {},
   "source": [
    "### 1) Crear una lista con las notas de 10 estudiantes. \n",
    "* Mostrar la lista completa. \n",
    "* Calcular y mostrar el promedio. \n",
    "* Indicar la nota más alta y la más baja. "
   ]
  },
  {
   "cell_type": "code",
   "execution_count": null,
   "id": "339ba2a4",
   "metadata": {},
   "outputs": [],
   "source": [
    "notas = [1,2,3,4,5,6,7,8,9,10]\n",
    "notas_desordenadas = [5,1,10,29,1,2,8]\n",
    "\n",
    "contador = 0\n",
    "acc = 0\n",
    "\n",
    "for i in notas:\n",
    "    contador += 1\n",
    "    acc = acc + i\n",
    "\n",
    "# Mostrar la lista completa\n",
    "print(*notas, sep=\",\") # Usando unpacking operator, para poder mostrar los elementos sin corchetes.\n",
    "\n",
    "# Calcular promedio\n",
    "print(f\"Promedio notas: {acc / contador}\")\n",
    "\n",
    "# Calcular nota mas alta y mas baja\n",
    "nota_baja = notas[0]\n",
    "nota_alta = notas[0] \n",
    "\n",
    "for i in range(1, len(notas)):\n",
    "     if notas[i] < nota_baja:\n",
    "        nota_baja = notas[i]\n",
    "     if notas[i] > nota_alta:\n",
    "         nota_alta = notas[i]\n",
    "print(f\"Esta es la nota mas baja: {nota_baja}\\nEsta es la nota mas alta: {nota_alta}\")"
   ]
  },
  {
   "cell_type": "markdown",
   "id": "8b77780c",
   "metadata": {},
   "source": [
    "### 2) Pedir al usuario que cargue 5 productos en una lista. \n",
    "* Mostrar la lista ordenada alfabéticamente. Investigue el uso del método sorted(). \n",
    "* Preguntar al usuario qué producto desea eliminar y actualizar la lista."
   ]
  },
  {
   "cell_type": "code",
   "execution_count": null,
   "id": "abca1b3f",
   "metadata": {},
   "outputs": [],
   "source": [
    "carrito = []\n",
    "\n",
    "for i in range(5):\n",
    "   carrito.append(input(\"Ingrese un producto: \")) \n",
    "\n",
    "# Mostrar lista ordenada alfabeticamente\n",
    "carrito_ordenado = sorted(carrito)\n",
    "print(f\"Carrito ordenado alfabeticamente:\\n{carrito_ordenado}\")\n",
    "\n",
    "# Eliminar producto\n",
    "producto_a_eliminar = input(\"¿Qué producto desea eliminar?\")\n",
    "carrito_ordenado.remove(producto_a_eliminar)\n",
    "\n",
    "print(f\"Se ha eliminado {producto_a_eliminar}:\\nCarrito actualizado: {carrito_ordenado}\")\n"
   ]
  },
  {
   "cell_type": "markdown",
   "id": "1e8a3a08",
   "metadata": {},
   "source": [
    "### 3) Generar una lista con 15 números enteros al azar entre 1 y 100. \n",
    "* Crear una lista con los pares y otra con los impares. \n",
    "* Mostrar cuántos números tiene cada lista."
   ]
  },
  {
   "cell_type": "code",
   "execution_count": 10,
   "id": "bd15173c",
   "metadata": {},
   "outputs": [
    {
     "name": "stdout",
     "output_type": "stream",
     "text": [
      "Lista par: [94, 40, 24, 44, 88, 74]\n",
      "Lista impar: [1, 17, 3, 79, 35, 43, 21, 21, 93]\n",
      "Cantidad de numeros lista par: 6\n",
      "Cantidad de numeros lista impar: 9\n"
     ]
    }
   ],
   "source": [
    "import random\n",
    "\n",
    "lista_aleatoria = []\n",
    "lista_par = []\n",
    "lista_impar = []\n",
    "\n",
    "for i in range(15):\n",
    "    lista_aleatoria.append(random.randint(1, 100))\n",
    "# print(f\"Lista aleatoria:\\n{lista_aleatoria}\")\n",
    "\n",
    "for i in range(len(lista_aleatoria)):\n",
    "    if lista_aleatoria[i] % 2 == 0:\n",
    "        lista_par.append(lista_aleatoria[i])\n",
    "    else:\n",
    "        lista_impar.append(lista_aleatoria[i])\n",
    "    \n",
    "print(f\"Lista par: {lista_par}\\nLista impar: {lista_impar}\")    \n",
    "print(f\"Cantidad de numeros lista par: {len(lista_par)}\\nCantidad de numeros lista impar: {len(lista_impar)}\")    "
   ]
  },
  {
   "cell_type": "markdown",
   "id": "7feb973b",
   "metadata": {},
   "source": [
    "### 4) Dada una lista con valores repetidos: \n",
    "\n",
    "datos = [1, 3, 5, 3, 7, 1, 9, 5, 3]\n",
    "\n",
    "* Crear una nueva lista sin elementos repetidos. \n",
    "* Mostrar el resultado. "
   ]
  },
  {
   "cell_type": "code",
   "execution_count": null,
   "id": "ce79d3f3",
   "metadata": {},
   "outputs": [
    {
     "name": "stdout",
     "output_type": "stream",
     "text": [
      "Lista sin repetidos: [1, 3, 5, 7, 9]\n"
     ]
    }
   ],
   "source": [
    "# Este codigo sin comentar es mi resolución, el resto de codigos comentados los investigue en internet y los guardo para estudiarlos\n",
    "\n",
    "datos = [1, 3, 5, 3, 7, 1, 9, 5, 3]\n",
    "datos_sin_repetir = []\n",
    "\n",
    "for i in range(len(datos)):\n",
    "    for j in range(i + 1 , len(datos)):\n",
    "        if datos[i] != datos[j] and (datos[i] not in datos_sin_repetir): # Algoritmo burbuja + comprobacion de existencia en mi array de no-repetidos\n",
    "            datos_sin_repetir.append(datos[i])\n",
    "print(f\"Lista sin repetidos: {datos_sin_repetir}\")         \n",
    "\n",
    "\n",
    "# Comparar de forma linear (Codigo investigado, no es de mi autoria)\n",
    "\n",
    "# for i in range(len(datos)):\n",
    "#     repetido = False\n",
    "#     for j in range(len(datos_sin_repetir)): # la primera no va a entrar porque range = 0\n",
    "#         if datos[i] == datos_sin_repetir[j]:     \n",
    "#             repetido = True  \n",
    "#     if repetido == False:\n",
    "#         datos_sin_repetir.append(datos[i])\n",
    "# print(datos_sin_repetir)\n",
    "\n",
    "\n",
    "# (Codigo investigado, no es de mi autoria)\n",
    "\n",
    "# for num in datos:\n",
    "#     if num not in datos_sin_repetir:\n",
    "#         datos_sin_repetir.append(num)\n",
    "# print(datos_sin_repetir)"
   ]
  },
  {
   "cell_type": "markdown",
   "id": "f034bbc6",
   "metadata": {},
   "source": [
    "### 5) Crear una lista con los nombres de 8 estudiantes presentes en clase. \n",
    "* Preguntar al usuario si quiere agregar un nuevo estudiante o eliminar uno existente. \n",
    "* Mostrar la lista final actualizada."
   ]
  },
  {
   "cell_type": "code",
   "execution_count": 141,
   "id": "985a644d",
   "metadata": {},
   "outputs": [
    {
     "name": "stdout",
     "output_type": "stream",
     "text": [
      "Lista presentes: ['Mario', 'Nicolas', 'Juan Pablo', 'Lucia', 'Damian', 'Violeta', 'Jazmin']\n"
     ]
    }
   ],
   "source": [
    "lista_presentes = [\"Mario\", \"Nicolas\", \"Juan Pablo\", \"Lucia\", \"Damian\", \"Violeta\", \"Jazmin\", \"Marcelo\"]\n",
    "\n",
    "accion_usuario = input(\"Escriba 'Agregar', para agregar un nuevo estudiante. Escriba 'Eliminar', para quitar un estudiante\").lower()\n",
    "\n",
    "if accion_usuario != \"eliminar\" and accion_usuario != \"agregar\":\n",
    "    print(\"Error: acción invalida\" )\n",
    "else:\n",
    "    if accion_usuario == \"agregar\":\n",
    "        lista_presentes.append(input(\"Escriba el nombre del alumno que desea agregar\"))\n",
    "    else:\n",
    "        lista_presentes.remove(input(\"Escriba el nombre del alumno que desea eliminar\"))\n",
    "print(f\"Lista presentes: {lista_presentes}\")\n",
    "\n"
   ]
  },
  {
   "cell_type": "markdown",
   "id": "886c242f",
   "metadata": {},
   "source": [
    "### 6) Dada una lista con 7 números, rotar todos los elementos una posición hacia la derecha (el último pasa a ser el primero).\n"
   ]
  },
  {
   "cell_type": "code",
   "execution_count": 92,
   "id": "df5416fe",
   "metadata": {},
   "outputs": [
    {
     "name": "stdout",
     "output_type": "stream",
     "text": [
      "Lista rotada: [7, 1, 2, 3, 4, 5, 6]\n"
     ]
    }
   ],
   "source": [
    "lista_num = [1, 2, 3, 4, 5, 6, 7]\n",
    "ultimo_num = lista_num.pop()\n",
    "\n",
    "lista_num.insert(0, ultimo_num)\n",
    "print(f\"Lista rotada: {lista_num}\")\n"
   ]
  },
  {
   "cell_type": "markdown",
   "id": "9f1f4401",
   "metadata": {},
   "source": [
    "### 7) Crear una matriz (lista anidada) de 7x2 con las temperaturas mínimas y máximas de una semana. \n",
    "* Calcular el promedio de las mínimas y el de las máximas. \n",
    "* Mostrar en qué día se registró la mayor amplitud térmica."
   ]
  },
  {
   "cell_type": "code",
   "execution_count": 5,
   "id": "d50d93d0",
   "metadata": {},
   "outputs": [
    {
     "name": "stdout",
     "output_type": "stream",
     "text": [
      "Lista semanal y sus temperaturas max y min: [['Lunes', 0, 15], ['Martes', 31, 35], ['Miercoles', 15, 22], ['Jueves', 38, 41], ['Viernes', 3, 34], ['Sabado', 7, 25], ['Domingo', 18, 35]]\n",
      "Promedio temperaturas maximas semanal: 30\n",
      "Dia con mayor amplitud semanal: Viernes con 31 grados\n"
     ]
    }
   ],
   "source": [
    "import random\n",
    "\n",
    "semana = [[\"Lunes\"], [\"Martes\"], [\"Miercoles\"], [\"Jueves\"], [\"Viernes\"], [\"Sabado\"], [\"Domingo\"]]\n",
    "acc = 0\n",
    "amplitud_max = 0\n",
    "\n",
    "for i in range(7):\n",
    "    # Genero 2 temperaturas aleatorias\n",
    "    temp_1 = random.randint(0, 45)\n",
    "    temp_2 = random.randint(0, 45)\n",
    "    # Determino cual es la temperatura menor y la mayor\n",
    "    temp_mayor = max(temp_1, temp_2)\n",
    "    temp_menor = min(temp_1, temp_2)\n",
    "    # Construyo la lista con los 7 dias de la semana y sus temp maxima y minima\n",
    "    semana[i].extend([temp_menor, temp_mayor])\n",
    "    # Sacar promedio de maximas\n",
    "    acc = acc + semana[i][2]\n",
    "    # Calculo amplitud\n",
    "    dif = temp_mayor - temp_menor\n",
    "    # Me quedo con el maximo valor y guardo el dia en index\n",
    "    if dif > amplitud_max:\n",
    "        amplitud_max = dif\n",
    "        index = i\n",
    "\n",
    "print(f\"Lista semanal y sus temperaturas max y min: {semana}\")\n",
    "print(f\"Promedio temperaturas maximas semanal: {round(acc / (i + 1))}\")\n",
    "print(f\"Dia con mayor amplitud semanal: {semana[index][0]} con {amplitud_max} grados\")"
   ]
  },
  {
   "cell_type": "markdown",
   "id": "2eac865a",
   "metadata": {},
   "source": [
    "### 8) Crear una matriz con las notas de 5 estudiantes en 3 materias. \n",
    "* Mostrar el promedio de cada estudiante. \n",
    "* Mostrar el promedio de cada materia."
   ]
  },
  {
   "cell_type": "code",
   "execution_count": null,
   "id": "63a13610",
   "metadata": {},
   "outputs": [
    {
     "name": "stdout",
     "output_type": "stream",
     "text": [
      "Print del array 'estudiantes' completo: [[[0], [2], [9]], [[8], [10], [1]], [[2], [1], [10]], [[10], [2], [7]], [[7], [8], [1]]]\n",
      "\n",
      "Promedio estudiante 1: 3.67\n",
      "---------------------------\n",
      "Promedio estudiante 2: 6.33\n",
      "---------------------------\n",
      "Promedio estudiante 3: 4.33\n",
      "---------------------------\n",
      "Promedio estudiante 4: 6.33\n",
      "---------------------------\n",
      "Promedio estudiante 5: 5.33\n",
      "---------------------------\n",
      "\n",
      "Promedio materia 1: 5.4\n",
      "-----------------------\n",
      "Promedio materia 2: 4.6\n",
      "-----------------------\n",
      "Promedio materia 3: 5.6\n",
      "-----------------------\n"
     ]
    }
   ],
   "source": [
    "import random\n",
    "\n",
    "estudiantes = []\n",
    "acc_estudiante = 0\n",
    "acc_materia = 0\n",
    "contador = 0\n",
    "\n",
    "# este modulo crea el array con 5 estudiantes (filas), y 3 notas correspondientes a 3 materias (columnas)\n",
    "for i in range(5):\n",
    "    estudiantes.append([])\n",
    "    for j in range(3):\n",
    "        estudiantes[i].append([random.randint(0,10)])\n",
    "print(f\"Print del array 'estudiantes' completo: {estudiantes}\")\n",
    "\n",
    "print()\n",
    "\n",
    "# este modulo calcula los promedios de cada estudiante:\n",
    "for estudiante in estudiantes:\n",
    "    contador+= 1 # lo utilizo solo para poder printear la relacion del estudiante con su respectivo promedio\n",
    "    for nota in estudiante:\n",
    "       acc_estudiante += nota[0]\n",
    "    print(f\"Promedio estudiante {contador}: {round(acc_estudiante / 3,2)}\\n---------------------------\") # redondeo para 2 decimales\n",
    "    acc_estudiante = 0 # reseteo el acumulador cuando itera al proximo estudiante\n",
    "\n",
    "print()\n",
    "\n",
    "# el siguiente modulo calcula el promedio de cada materia:\n",
    "for i in range(3): \n",
    "    for materia in estudiantes:\n",
    "        acc_materia += materia[i][0]\n",
    "    print(f\"Promedio materia {i + 1}: {acc_materia / 5}\\n-----------------------\") # aca puedo usar i + 1 para relacionar la materia con su respectivo promedio\n",
    "    acc_materia = 0\n"
   ]
  },
  {
   "cell_type": "markdown",
   "id": "45e19ecf",
   "metadata": {},
   "source": [
    "### 9) Representar un tablero de Ta-Te-Ti como una lista de listas (3x3). \n",
    "* Inicializarlo con guiones \"-\" representando casillas vacías. \n",
    "* Permitir que dos jugadores ingresen posiciones (fila, columna) para colocar \"X\" o \"O\". \n",
    "* Mostrar el tablero después de cada jugada."
   ]
  },
  {
   "cell_type": "code",
   "execution_count": 52,
   "id": "fe6037c5",
   "metadata": {},
   "outputs": [
    {
     "name": "stdout",
     "output_type": "stream",
     "text": [
      "- - -\n",
      "- - -\n",
      "- - -\n",
      "Gana O por combinación horizontal en fila 2\n",
      "\n",
      "- - -\n",
      "- X -\n",
      "- - -\n",
      "\n",
      "- - -\n",
      "- X -\n",
      "- - O\n",
      "\n",
      "Turno: 2\n"
     ]
    },
    {
     "ename": "ValueError",
     "evalue": "invalid literal for int() with base 10: ''",
     "output_type": "error",
     "traceback": [
      "\u001b[31m---------------------------------------------------------------------------\u001b[39m",
      "\u001b[31mValueError\u001b[39m                                Traceback (most recent call last)",
      "\u001b[36mCell\u001b[39m\u001b[36m \u001b[39m\u001b[32mIn[52]\u001b[39m\u001b[32m, line 39\u001b[39m\n\u001b[32m     36\u001b[39m \u001b[38;5;28;01mwhile\u001b[39;00m turno < \u001b[32m9\u001b[39m:\n\u001b[32m     37\u001b[39m     \u001b[38;5;66;03m# modulo jugador X\u001b[39;00m\n\u001b[32m     38\u001b[39m     \u001b[38;5;28;01mwhile\u001b[39;00m \u001b[38;5;28;01mTrue\u001b[39;00m:\n\u001b[32m---> \u001b[39m\u001b[32m39\u001b[39m         x_fila = \u001b[38;5;28;43mint\u001b[39;49m\u001b[43m(\u001b[49m\u001b[38;5;28;43minput\u001b[39;49m\u001b[43m(\u001b[49m\u001b[33;43m\"\u001b[39;49m\u001b[33;43mJugador X ingresá el numero de fila: (del 1 al 3)\u001b[39;49m\u001b[33;43m\"\u001b[39;49m\u001b[43m)\u001b[49m\u001b[43m)\u001b[49m - \u001b[32m1\u001b[39m \u001b[38;5;66;03m# se resta uno, ya que la indexacion de listas comienza desde cero\u001b[39;00m\n\u001b[32m     40\u001b[39m         x_columna = \u001b[38;5;28mint\u001b[39m(\u001b[38;5;28minput\u001b[39m(\u001b[33m\"\u001b[39m\u001b[33mAhora ingresá el numero de columna: (del 1 al 3)\u001b[39m\u001b[33m\"\u001b[39m)) - \u001b[32m1\u001b[39m\n\u001b[32m     41\u001b[39m         \u001b[38;5;28;01mif\u001b[39;00m \u001b[38;5;129;01mnot\u001b[39;00m (\u001b[32m0\u001b[39m <= x_fila <= \u001b[32m2\u001b[39m \u001b[38;5;129;01mand\u001b[39;00m \u001b[32m0\u001b[39m <= x_columna <= \u001b[32m2\u001b[39m): \u001b[38;5;66;03m# Si la jugada ingresada no es valida, se vuelve a pedir que la ingrese, sin perder el turno, (continue)\u001b[39;00m\n",
      "\u001b[31mValueError\u001b[39m: invalid literal for int() with base 10: ''"
     ]
    }
   ],
   "source": [
    "tablero = [[\"-\", \"-\", \"-\"], [\"-\", \"-\", \"-\"], [\"-\", \"-\", \"-\"]]\n",
    "turno = 0\n",
    "# tablero inicial:\n",
    "for columna in range(len(tablero)):\n",
    "    print(*tablero[columna])\n",
    "\n",
    "abc = [[\"O\", \"X\", \"O\"], [\"O\", \"O\", \"O\"], [\"a\", \"X\", \"X\"]]\n",
    "\n",
    "##PRUEBA GANADORES CON BUCLE\n",
    "# modulo ganador X horizontal\n",
    "contador_ganador_x = 0\n",
    "for i in range(len(abc)):\n",
    "    for j in range(len(abc[i])):\n",
    "        if abc[i][j] == \"X\":\n",
    "            contador_ganador_x += 1\n",
    "            if contador_ganador_x == 3:\n",
    "                print(f\"Gana X por combinación horizontal en fila {i + 1}\")\n",
    "                break\n",
    "    contador_ganador_x =  0\n",
    "\n",
    "# modulo ganador X horizontal\n",
    "contador_ganador_o = 0\n",
    "for i in range(len(abc)):\n",
    "    for j in range(len(abc[i])):\n",
    "        if abc[i][j] == \"O\":\n",
    "            contador_ganador_x += 1\n",
    "            if contador_ganador_x == 3:\n",
    "                print(f\"Gana O por combinación horizontal en fila {i + 1}\")\n",
    "                break\n",
    "    contador_ganador_x =  0    \n",
    "\n",
    "    \n",
    "\n",
    "print() # espacio vacio\n",
    "\n",
    "while turno < 9:\n",
    "    # modulo jugador X\n",
    "    while True:\n",
    "        x_fila = int(input(\"Jugador X ingresá el numero de fila: (del 1 al 3)\")) - 1 # se resta uno, ya que la indexacion de listas comienza desde cero\n",
    "        x_columna = int(input(\"Ahora ingresá el numero de columna: (del 1 al 3)\")) - 1\n",
    "        if not (0 <= x_fila <= 2 and 0 <= x_columna <= 2): # Si la jugada ingresada no es valida, se vuelve a pedir que la ingrese, sin perder el turno, (continue)\n",
    "            print(\"Recordá ingresar un valor entre el 1 y el 3!\")\n",
    "            continue\n",
    "        if tablero[x_fila][x_columna] == \"X\" or tablero[x_fila][x_columna] == \"O\": # se puede simplificar con in. Aca se valida que la casilla elegida no esté ocupada\n",
    "            print(\"casilla ocupada, elegí otra!\")\n",
    "            continue\n",
    "        tablero[x_fila][x_columna] = \"X\" # se printea la jugada en el tablero\n",
    "        break # se detiene eñ bucle y continua el programa\n",
    "    for columna in range(len(tablero)): # se printea el tablero luego de la jugada de X\n",
    "        print(*tablero[columna])\n",
    "    print() # espacio en blanco\n",
    "    \n",
    "    while True:\n",
    "        # modulo jugador O\n",
    "        o_fila = int(input(\"Jugador O ingresá el numero de fila: (del 1 al 3)\")) - 1\n",
    "        o_columna = int(input(\"Ahora ingresá el numero de columna: (del 1 al 3)\")) - 1\n",
    "        if not (0 <= o_fila <= 2 and 0 <= o_columna <= 2):\n",
    "            print(\"Recordá ingresar un valor entre el 1 y el 3!\")\n",
    "            continue\n",
    "        if tablero[o_fila][o_columna] == \"X\" or tablero[o_fila][o_columna] == \"O\":\n",
    "            print(\"casilla ocupada, elegí otra!\")\n",
    "            continue\n",
    "        tablero[o_fila][o_columna] = \"O\"\n",
    "        break\n",
    "    for columna in range(len(tablero)): # printea el tablero luego de la jugada de O   \n",
    "        print(*tablero[columna])\n",
    "    print()\n",
    "    # ejemplo ganador\n",
    "    # if tablero[0][0] == \"X\" and tablero[0][1] == \"X\" and tablero[0][2] == \"X\":\n",
    "    #     print(\"gana X\")\n",
    "    #     break\n",
    "\n",
    "    turno += 1\n",
    "    print(f\"Turno: {turno + 1}\") # print del turno para corroborar vueltas \n",
    "     \n",
    "\n",
    "       \n",
    "       \n",
    "   \n",
    "       "
   ]
  }
 ],
 "metadata": {
  "kernelspec": {
   "display_name": "Python 3",
   "language": "python",
   "name": "python3"
  },
  "language_info": {
   "codemirror_mode": {
    "name": "ipython",
    "version": 3
   },
   "file_extension": ".py",
   "mimetype": "text/x-python",
   "name": "python",
   "nbconvert_exporter": "python",
   "pygments_lexer": "ipython3",
   "version": "3.13.5"
  }
 },
 "nbformat": 4,
 "nbformat_minor": 5
}
