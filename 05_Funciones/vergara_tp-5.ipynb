{
 "cells": [
  {
   "cell_type": "markdown",
   "id": "94f5b6f6",
   "metadata": {},
   "source": [
    "#### 1. Crear una función llamada imprimir_hola_mundo que imprima por pantalla el mensaje: “Hola Mundo!”. Llamar a esta función desde el programa principal."
   ]
  },
  {
   "cell_type": "code",
   "execution_count": null,
   "id": "69e93acf",
   "metadata": {},
   "outputs": [],
   "source": [
    "def imprimir_hola_mundo():\n",
    "    print(\"Hola Mundo!\")\n",
    "\n",
    "imprimir_hola_mundo()"
   ]
  },
  {
   "cell_type": "markdown",
   "id": "7d91e088",
   "metadata": {},
   "source": [
    "#### 2. Crear una función llamada saludar_usuario(nombre) que reciba como parámetro un nombre y devuelva un saludo personalizado. Por ejemplo, si se llama con saludar_usuario(\"Marcos\"), deberá de- volver: “Hola Marcos!”. Llamar a esta función desde el programa principal solicitando el nombre al usuario."
   ]
  },
  {
   "cell_type": "code",
   "execution_count": null,
   "id": "6e1859cf",
   "metadata": {},
   "outputs": [],
   "source": [
    "def saludar_usuario(nombre: str) -> None:\n",
    "    print(f\"Hola {nombre}!\")\n",
    "\n",
    "nombre_usuario = input(\"Ingrese su nombre: \")\n",
    "\n",
    "saludar_usuario(nombre_usuario)"
   ]
  },
  {
   "cell_type": "markdown",
   "id": "8a7cab98",
   "metadata": {},
   "source": [
    "#### 3. Crear una función llamada informacion_personal(nombre, apellido, edad, residencia) que reciba cuatro parámetros e imprima: “Soy [nombre] [apellido], tengo [edad] años y vivo en [residencia]”. Pedir los datos al usuario y llamar a esta función con los valores in- gresados.\n",
    "\n"
   ]
  },
  {
   "cell_type": "code",
   "execution_count": null,
   "id": "89d4bae8",
   "metadata": {},
   "outputs": [],
   "source": [
    "def informacion_personal(nombre: str, apellido: str, edad: int, residencia: str) -> None:\n",
    "    print(f\"Soy {nombre} {apellido}, tengo {edad} años y vivo en {residencia}\")\n",
    "\n",
    "informacion_personal(input(\"Ingrese su nombre\"), input(\"Ingrese su apellido\"), input(\"Ingrese su edad\"), input(\"Ingrese su lugar de residencia\"))"
   ]
  },
  {
   "cell_type": "markdown",
   "id": "e78377f1",
   "metadata": {},
   "source": [
    "#### 4. Crear dos funciones: calcular_area_circulo(radio) que reciba el radio como parámetro y devuelva el área del círculo. calcular_perimetro_circulo(radio) que reciba el radio como parámetro y devuelva el perímetro del círculo. Solicitar el radio al usuario y llamar ambas funciones para mostrar los resultados."
   ]
  },
  {
   "cell_type": "code",
   "execution_count": null,
   "id": "0084f7cb",
   "metadata": {},
   "outputs": [],
   "source": [
    "import math\n",
    "\n",
    "def calcular_area_circulo(radio: float | int) -> float:\n",
    "    area = math.pi * radio ** 2\n",
    "    return round(area, 2)\n",
    "\n",
    "def calcular_perimetro_circulo(radio: float | int) -> float:\n",
    "    perimetro = 2 * math.pi * radio\n",
    "    return round(perimetro, 2)\n",
    "\n",
    "dato_usuario = float(input(\"Ingrese el radio: \"))\n",
    "area = calcular_area_circulo(dato_usuario)\n",
    "perimetro = calcular_perimetro_circulo(dato_usuario)\n",
    "\n",
    "print(f\"Area del circulo: {area}\\nPerimetro del circulo: {perimetro}\")"
   ]
  },
  {
   "cell_type": "markdown",
   "id": "23984fd2",
   "metadata": {},
   "source": [
    "#### 5. Crear una función llamada segundos_a_horas(segundos) que reciba una cantidad de segundos como parámetro y devuelva la cantidad de horas correspondientes. Solicitar al usuario los segundos y mostrar el resultado usando esta función."
   ]
  },
  {
   "cell_type": "code",
   "execution_count": null,
   "id": "da8fff10",
   "metadata": {},
   "outputs": [],
   "source": [
    "def segundos_a_horas(segundos: int) -> float:\n",
    "    horas = segundos / 3600\n",
    "    return round(horas, 2)\n",
    "\n",
    "dato_usuario = int(input(\"Ingrese segundos: \"))\n",
    "resultado = segundos_a_horas(dato_usuario)\n",
    "\n",
    "print(f\"Horas: {resultado} \")"
   ]
  },
  {
   "cell_type": "markdown",
   "id": "c935d713",
   "metadata": {},
   "source": [
    "#### 6. Crear una función llamada tabla_multiplicar(numero) que reciba un número como parámetro e imprima la tabla de multiplicar de ese número del 1 al 10. Pedir al usuario el número y llamar a la función."
   ]
  },
  {
   "cell_type": "code",
   "execution_count": null,
   "id": "2a4614c1",
   "metadata": {},
   "outputs": [],
   "source": [
    "def tabla_multiplicar(numero: int) -> None:\n",
    "    for i in range(1, 11):\n",
    "        print(f\"{numero} x {i} = {numero * i}\")\n",
    "        \n",
    "dato_usuario = int(input(\"Ingrese numero a multiplicar: \"))\n",
    "\n",
    "tabla_multiplicar(dato_usuario)"
   ]
  },
  {
   "cell_type": "markdown",
   "id": "418256bb",
   "metadata": {},
   "source": [
    "#### 7. Crear una función llamada operaciones_basicas(a, b) que reciba dos números como parámetros y devuelva una tupla con el resultado de sumarlos, restarlos, multiplicarlos y dividirlos. Mostrar los resultados de forma clara."
   ]
  },
  {
   "cell_type": "code",
   "execution_count": null,
   "id": "0d688aa2",
   "metadata": {},
   "outputs": [],
   "source": [
    "def suma(a, b):\n",
    "    return a + b\n",
    "\n",
    "def resta(a, b):\n",
    "   return a - b\n",
    "\n",
    "def multiplicacion(a, b):\n",
    "   return a * b\n",
    "\n",
    "def division(a, b):\n",
    "   if b != 0:\n",
    "      return a / b\n",
    "   else:\n",
    "      return \"no se puede dividir por cero\"\n",
    "   \n",
    "def operaciones_basicas(a: int, b: int) -> tuple:\n",
    "   return (suma(a, b), resta(a, b), multiplicacion(a, b), division(a, b))\n",
    "   \n",
    "numero_a = int(input(\"Ingrese primer numero: \"))\n",
    "numero_b = int(input(\"Ingrese segundo numero: \"))\n",
    "\n",
    "resultados = operaciones_basicas(numero_a, numero_b)\n",
    "\n",
    "print(f\"Resultado suma: {resultados[0]}\")\n",
    "print(f\"Resultado resta: {resultados[1]}\")\n",
    "print(f\"Resultado multiplicacion: {resultados[2]}\")\n",
    "print(f\"Resultado division: {resultados[3]}\")"
   ]
  },
  {
   "cell_type": "markdown",
   "id": "f75a7cdd",
   "metadata": {},
   "source": [
    "#### 8. Crear una función llamada calcular_imc(peso, altura) que reciba el peso en kilogramos y la altura en metros, y devuelva el índice de masa corporal (IMC). Solicitar al usuario los datos y llamar a la función para mostrar el resultado con dos decimales."
   ]
  },
  {
   "cell_type": "code",
   "execution_count": null,
   "id": "c1176bf0",
   "metadata": {},
   "outputs": [],
   "source": [
    "def calcular_imc(peso: float | int, altura: float | int) -> float:\n",
    "  return round(peso / altura ** 2, 2)\n",
    "  \n",
    "peso_usuario = float(input(\"Ingrese el su peso: \"))\n",
    "altura_usuario = float(input(\"Ingrese el su altura: \"))\n",
    "imc = calcular_imc(peso_usuario, altura_usuario)\n",
    "\n",
    "print(f\"Su indice de masa corporal: {imc}\")"
   ]
  },
  {
   "cell_type": "markdown",
   "id": "8c55e94c",
   "metadata": {},
   "source": [
    "#### 9. Crear una función llamada celsius_a_fahrenheit(celsius) que reciba una temperatura en grados Celsius y devuelva su equivalente en Fahrenheit. Pedir al usuario la temperatura en Celsius y mostrar el resultado usando la función."
   ]
  },
  {
   "cell_type": "code",
   "execution_count": null,
   "id": "db6c81f1",
   "metadata": {},
   "outputs": [],
   "source": [
    "def celsius_a_fahrenheit(celsius: float | int) -> float:\n",
    "    \"\"\"Convierte una temperatura en grados Celsius a Fahrenheit.\"\"\"\n",
    "    return round((celsius * 9 / 5) + 32, 2)\n",
    "    \n",
    "temperatura_usuario = float(input(\"Ingresa los grados Celsius: \"))\n",
    "resultado = celsius_a_fahrenheit(temperatura_usuario)\n",
    "\n",
    "print(f\"{temperatura_usuario} ºC equivalen a {resultado} ºF\")\n"
   ]
  },
  {
   "cell_type": "markdown",
   "id": "0bb2a611",
   "metadata": {},
   "source": [
    "#### 10.Crear una función llamada calcular_promedio(a, b, c) que reciba tres números como parámetros y devuelva el promedio de ellos. Solicitar los números al usuario y mostrar el resultado usando esta función."
   ]
  },
  {
   "cell_type": "code",
   "execution_count": null,
   "id": "f9e8e748",
   "metadata": {},
   "outputs": [],
   "source": [
    "def calcular_promedio(a: int, b: int, c: int) -> float:\n",
    "    \"\"\"Calcula el promedio entre sus 3 argumentos\"\"\"\n",
    "    return round((a + b + c) / 3, 2)\n",
    "\n",
    "num_a = int(input(\"Ingrese el primer numero: \"))\n",
    "num_b = int(input(\"Ingrese el segundo numero: \"))\n",
    "num_c = int(input(\"Ingrese el tercer numero: \"))\n",
    "\n",
    "promedio = calcular_promedio(num_a, num_b, num_c)\n",
    "\n",
    "print(f\"El promedio entre {num_a}, {num_b} y {num_c} es: {promedio}\")"
   ]
  }
 ],
 "metadata": {
  "kernelspec": {
   "display_name": "Python 3",
   "language": "python",
   "name": "python3"
  },
  "language_info": {
   "codemirror_mode": {
    "name": "ipython",
    "version": 3
   },
   "file_extension": ".py",
   "mimetype": "text/x-python",
   "name": "python",
   "nbconvert_exporter": "python",
   "pygments_lexer": "ipython3",
   "version": "3.13.5"
  }
 },
 "nbformat": 4,
 "nbformat_minor": 5
}
