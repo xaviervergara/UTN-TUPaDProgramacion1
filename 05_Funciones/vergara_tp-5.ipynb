{
 "cells": [
  {
   "cell_type": "markdown",
   "id": "94f5b6f6",
   "metadata": {},
   "source": [
    "#### 1. Crear una función llamada imprimir_hola_mundo que imprima por pantalla el mensaje: “Hola Mundo!”. Llamar a esta función desde el programa principal."
   ]
  },
  {
   "cell_type": "code",
   "execution_count": null,
   "id": "69e93acf",
   "metadata": {},
   "outputs": [],
   "source": [
    "def imprimir_hola_mundo():\n",
    "    print(\"Hola Mundo!\")\n",
    "\n",
    "imprimir_hola_mundo()"
   ]
  },
  {
   "cell_type": "markdown",
   "id": "7d91e088",
   "metadata": {},
   "source": [
    "#### 2. Crear una función llamada saludar_usuario(nombre) que reciba como parámetro un nombre y devuelva un saludo personalizado. Por ejemplo, si se llama con saludar_usuario(\"Marcos\"), deberá de- volver: “Hola Marcos!”. Llamar a esta función desde el programa principal solicitando el nombre al usuario."
   ]
  },
  {
   "cell_type": "code",
   "execution_count": null,
   "id": "6e1859cf",
   "metadata": {},
   "outputs": [],
   "source": [
    "def saludar_usuario(nombre: str) -> None:\n",
    "    print(f\"Hola {nombre}!\")\n",
    "\n",
    "saludar_usuario(\"Marcos\")"
   ]
  },
  {
   "cell_type": "markdown",
   "id": "8a7cab98",
   "metadata": {},
   "source": [
    "#### 3. Crear una función llamada informacion_personal(nombre, apellido, edad, residencia) que reciba cuatro parámetros e imprima: “Soy [nombre] [apellido], tengo [edad] años y vivo en [residencia]”. Pedir los datos al usuario y llamar a esta función con los valores in- gresados.\n",
    "\n"
   ]
  },
  {
   "cell_type": "code",
   "execution_count": null,
   "id": "89d4bae8",
   "metadata": {},
   "outputs": [],
   "source": [
    "def informacion_personal(nombre: str, apellido: str, edad: int, residencia: str) -> None:\n",
    "    print(f\"Soy {nombre} {apellido}, tengo {edad} años y vivo en {residencia}\")\n",
    "\n",
    "informacion_personal(input(\"Ingrese su nombre\"), input(\"Ingrese su apellido\"), input(\"Ingrese su edad\"), input(\"Ingrese su lugar de residencia\"))"
   ]
  },
  {
   "cell_type": "markdown",
   "id": "e78377f1",
   "metadata": {},
   "source": [
    "#### 4. Crear dos funciones: calcular_area_circulo(radio) que reciba el radio como parámetro y devuelva el área del círculo. calcular_perimetro_circulo(radio) que reciba el radio como parámetro y devuelva el perímetro del círculo. Solicitar el radio al usuario y llamar ambas funciones para mostrar los resultados."
   ]
  },
  {
   "cell_type": "code",
   "execution_count": null,
   "id": "0084f7cb",
   "metadata": {},
   "outputs": [],
   "source": [
    "import math\n",
    "\n",
    "def calcular_area_circulo(radio: float | int) -> float:\n",
    "    area = math.pi * radio ** 2\n",
    "    return round(area, 2)\n",
    "\n",
    "def calcular_perimetro_circulo(radio: float | int) -> float:\n",
    "    perimetro = 2 * math.pi * radio\n",
    "    return round(perimetro, 2)\n",
    "\n",
    "dato_usuario = float(input(\"Ingrese el radio: \"))\n",
    "\n",
    "print(f\"Area del circulo: {calcular_area_circulo(dato_usuario)}\\nPerimetro del circulo: {calcular_perimetro_circulo(dato_usuario)}\")"
   ]
  },
  {
   "cell_type": "markdown",
   "id": "23984fd2",
   "metadata": {},
   "source": [
    "#### 5. Crear una función llamada segundos_a_horas(segundos) que reciba una cantidad de segundos como parámetro y devuelva la cantidad de horas correspondientes. Solicitar al usuario los segundos y mostrar el resultado usando esta función."
   ]
  },
  {
   "cell_type": "code",
   "execution_count": null,
   "id": "da8fff10",
   "metadata": {},
   "outputs": [
    {
     "name": "stdout",
     "output_type": "stream",
     "text": [
      "Horas: 2.0 \n"
     ]
    }
   ],
   "source": [
    "def segundos_a_horas(segundos: int) -> float:\n",
    "    horas = segundos / 3600\n",
    "    return round(horas, 2)\n",
    "\n",
    "dato_usuario = int(input(\"Ingrese segundos: \"))\n",
    "\n",
    "print(f\"Horas: {segundos_a_horas(dato_usuario)} \")\n",
    "    "
   ]
  },
  {
   "cell_type": "markdown",
   "id": "c935d713",
   "metadata": {},
   "source": [
    "#### 6. Crear una función llamada tabla_multiplicar(numero) que reciba un número como parámetro e imprima la tabla de multiplicar de ese número del 1 al 10. Pedir al usuario el número y llamar a la función."
   ]
  },
  {
   "cell_type": "code",
   "execution_count": null,
   "id": "2a4614c1",
   "metadata": {},
   "outputs": [
    {
     "name": "stdout",
     "output_type": "stream",
     "text": [
      "2 x 1 = 2\n",
      "2 x 2 = 4\n",
      "2 x 3 = 6\n",
      "2 x 4 = 8\n",
      "2 x 5 = 10\n",
      "2 x 6 = 12\n",
      "2 x 7 = 14\n",
      "2 x 8 = 16\n",
      "2 x 9 = 18\n",
      "2 x 10 = 20\n"
     ]
    }
   ],
   "source": [
    "def tabla_multiplicar(numero: int) -> int:\n",
    "    for i in range(1, 11):\n",
    "        print(f\"{numero} x {i} = {numero * i}\")\n",
    "        \n",
    "dato_usuario = int(input(\"Ingrese numero a multiplicar: \"))\n",
    "\n",
    "tabla_multiplicar(dato_usuario)"
   ]
  }
 ],
 "metadata": {
  "kernelspec": {
   "display_name": "Python 3",
   "language": "python",
   "name": "python3"
  },
  "language_info": {
   "codemirror_mode": {
    "name": "ipython",
    "version": 3
   },
   "file_extension": ".py",
   "mimetype": "text/x-python",
   "name": "python",
   "nbconvert_exporter": "python",
   "pygments_lexer": "ipython3",
   "version": "3.13.5"
  }
 },
 "nbformat": 4,
 "nbformat_minor": 5
}
