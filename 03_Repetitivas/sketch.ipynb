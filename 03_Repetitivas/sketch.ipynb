{
 "cells": [
  {
   "cell_type": "code",
   "execution_count": null,
   "id": "cea3311b",
   "metadata": {},
   "outputs": [],
   "source": [
    "# 1) Crea un programa que imprima en pantalla todos los números enteros desde 0 hasta 100\n",
    "# (incluyendo ambos extremos), en orden creciente, mostrando un número por línea.\n",
    "\n",
    "for i in range(0, 101):\n",
    "    print(i)"
   ]
  },
  {
   "cell_type": "code",
   "execution_count": null,
   "id": "b4591880",
   "metadata": {},
   "outputs": [
    {
     "name": "stdout",
     "output_type": "stream",
     "text": [
      "10\n",
      "10\n"
     ]
    }
   ],
   "source": [
    "# 2) Desarrolla un programa que solicite al usuario un número entero y determine la cantidad de\n",
    "# dígitos que contiene.\n",
    "\n",
    "numero_usuario = input(\"Ingrese un numero\")\n",
    "# print(len(numero_usuario)) ---> Metodo mas rapido\n",
    "\n",
    "i = 0\n",
    "digito = 0\n",
    "for i in numero_usuario:\n",
    "    digito += 1\n",
    "\n",
    "print(digito)"
   ]
  },
  {
   "cell_type": "code",
   "execution_count": 28,
   "id": "ae873d7e",
   "metadata": {},
   "outputs": [
    {
     "name": "stdout",
     "output_type": "stream",
     "text": [
      "9\n"
     ]
    }
   ],
   "source": [
    "# 3) Escribe un programa que sume todos los números enteros comprendidos entre dos valores\n",
    "# dados por el usuario, excluyendo esos dos valores.\n",
    "\n",
    "num_1 = int(input(\"Ingrese el primer numero\"))\n",
    "num_2 = int(input(\"Ingrese el segundo numero\"))\n",
    "\n",
    "acc = 0\n",
    "\n",
    "for i in range((num_1 + 1), num_2):\n",
    "    acc = acc + i\n",
    "print(acc)\n",
    "\n"
   ]
  },
  {
   "cell_type": "code",
   "execution_count": 42,
   "id": "fac0fcc3",
   "metadata": {},
   "outputs": [
    {
     "name": "stdout",
     "output_type": "stream",
     "text": [
      "8\n"
     ]
    }
   ],
   "source": [
    "# 4) Elabora un programa que permita al usuario ingresar números enteros y los sume en\n",
    "# secuencia. El programa debe detenerse y mostrar el total acumulado cuando el usuario ingrese\n",
    "# un 0.\n",
    "\n",
    "acc = 0\n",
    "a = int(input(\"Ingrese un numero\"))\n",
    "\n",
    "while a != 0:\n",
    "    acc += a\n",
    "    a = int(input(\"Ingrese un numero\"))\n",
    "print(acc)"
   ]
  }
 ],
 "metadata": {
  "kernelspec": {
   "display_name": "Python 3",
   "language": "python",
   "name": "python3"
  },
  "language_info": {
   "codemirror_mode": {
    "name": "ipython",
    "version": 3
   },
   "file_extension": ".py",
   "mimetype": "text/x-python",
   "name": "python",
   "nbconvert_exporter": "python",
   "pygments_lexer": "ipython3",
   "version": "3.13.5"
  }
 },
 "nbformat": 4,
 "nbformat_minor": 5
}
