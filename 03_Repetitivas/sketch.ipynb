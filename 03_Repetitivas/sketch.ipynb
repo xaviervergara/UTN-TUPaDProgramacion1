{
 "cells": [
  {
   "cell_type": "code",
   "execution_count": null,
   "id": "cea3311b",
   "metadata": {},
   "outputs": [],
   "source": [
    "# 1) Crea un programa que imprima en pantalla todos los números enteros desde 0 hasta 100\n",
    "# (incluyendo ambos extremos), en orden creciente, mostrando un número por línea.\n",
    "\n",
    "for i in range(0, 101):\n",
    "    print(i)"
   ]
  },
  {
   "cell_type": "code",
   "execution_count": null,
   "id": "b4591880",
   "metadata": {},
   "outputs": [],
   "source": [
    "# 2) Desarrolla un programa que solicite al usuario un número entero y determine la cantidad de\n",
    "# dígitos que contiene.\n",
    "\n",
    "numero_usuario = input(\"Ingrese un numero\")\n",
    "# No casteo el input a tipo num, entonces queda como un string, el cual si es iterable\n",
    "# esto permite recorrerlo con un for in.\n",
    "\n",
    "i = 0\n",
    "digito = 0\n",
    "for i in numero_usuario:\n",
    "    digito += 1\n",
    "print(digito)"
   ]
  },
  {
   "cell_type": "code",
   "execution_count": null,
   "id": "ae873d7e",
   "metadata": {},
   "outputs": [],
   "source": [
    "# 3) Escribe un programa que sume todos los números enteros comprendidos entre dos valores\n",
    "# dados por el usuario, excluyendo esos dos valores.\n",
    "\n",
    "num_1 = int(input(\"Ingrese el primer numero\"))\n",
    "num_2 = int(input(\"Ingrese el segundo numero\"))\n",
    "acc = 0\n",
    "\n",
    "if num_1 >= num_2:\n",
    "    print(\"El segundo numero debe ser el mas grande\")\n",
    "else:\n",
    "    for i in range((num_1 + 1), num_2):\n",
    "        acc = acc + i\n",
    "    print(acc)"
   ]
  },
  {
   "cell_type": "code",
   "execution_count": null,
   "id": "fac0fcc3",
   "metadata": {},
   "outputs": [],
   "source": [
    "# 4) Elabora un programa que permita al usuario ingresar números enteros y los sume en\n",
    "# secuencia. El programa debe detenerse y mostrar el total acumulado cuando el usuario ingrese\n",
    "# un 0.\n",
    "\n",
    "acc = 0\n",
    "a = int(input(\"Ingrese un numero\"))\n",
    "\n",
    "while a != 0:\n",
    "    acc += a\n",
    "    a = int(input(\"Ingrese un numero\"))\n",
    "print(acc)"
   ]
  },
  {
   "cell_type": "code",
   "execution_count": null,
   "id": "2e307702",
   "metadata": {},
   "outputs": [],
   "source": [
    "# 5) Crea un juego en el que el usuario deba adivinar un número aleatorio entre 0 y 9. Al final,\n",
    "# el programa debe mostrar cuántos intentos fueron necesarios para acertar el número.\n",
    "import random\n",
    "\n",
    "flag = True\n",
    "n_intentos = 0\n",
    "numero_aleatorio = random.randint(0, 9) # Tambien podria poner esta linea dentro del bucle, para aumentar la dificultad.\n",
    "\n",
    "while flag:\n",
    "  numero_usuario = int(input(\"Ingrese un numero\"))\n",
    "  n_intentos += 1\n",
    "  if numero_usuario == numero_aleatorio:\n",
    "    flag = False\n",
    "print(f\"Ha adivinado el numero!\\nNumero de intentos: {n_intentos}\")"
   ]
  },
  {
   "cell_type": "code",
   "execution_count": null,
   "id": "e638cf46",
   "metadata": {},
   "outputs": [],
   "source": [
    "# 6) Desarrolla un programa que imprima en pantalla todos los números pares comprendidos \n",
    "# entre 0 y 100, en orden decreciente.\n",
    "\n",
    "# Como no aclara que si hay que incluir extremos lo escribí asi:\n",
    "\n",
    "for i in range(98, 0, -2):\n",
    "    print(i)\n",
    "\n",
    "# Este es auxiliar, con extremos incluidos\n",
    "# for i in range(100, -2, -2):\n",
    "#     print(i)"
   ]
  },
  {
   "cell_type": "code",
   "execution_count": null,
   "id": "3ea1f30f",
   "metadata": {},
   "outputs": [],
   "source": [
    "# 7) Crea un programa que calcule la suma de todos los números comprendidos entre 0 y un \n",
    "# número entero positivo indicado por el usuario. \n",
    "\n",
    "numero_usuario = int(input(\"Ingrese un numero\"))\n",
    "acc = 0\n",
    "# tampoco dejamos ingresar ceros, para que se pueda realizar la operacion\n",
    "if numero_usuario <= 0:\n",
    "    print(\"Ingrese un numero positivo distinto de cero, para poder realizar la operación\")\n",
    "else:\n",
    " for i in range(numero_usuario):\n",
    "    acc = acc + i\n",
    " print(f\"Suma: {acc}\")"
   ]
  },
  {
   "cell_type": "code",
   "execution_count": null,
   "id": "ada403bd",
   "metadata": {},
   "outputs": [],
   "source": [
    "# 8) Escribe un programa que permita al usuario ingresar 100 números enteros. Luego, el \n",
    "# programa debe indicar cuántos de estos números son pares, cuántos son impares, cuántos son \n",
    "# negativos y cuántos son positivos. (Nota: para probar el programa puedes usar una cantidad \n",
    "# menor, pero debe estar preparado para procesar 100 números con un solo cambio)\n",
    "\n",
    "pares = 0\n",
    "impares = 0\n",
    "positivos = 0\n",
    "negativos = 0\n",
    "\n",
    "for i in range(100):\n",
    "    numero_usuario =  int(input(\"Ingrese numero\"))   \n",
    "    if numero_usuario % 2 == 0:\n",
    "      pares += 1\n",
    "    else: impares += 1\n",
    "    if numero_usuario > 0:\n",
    "        positivos += 1\n",
    "    else: negativos += 1\n",
    "         \n",
    "print(f\"Pares: {pares}\\nImpares: {impares}\\nPositivos: {positivos}\\nNegativos: {negativos}\\n\")"
   ]
  },
  {
   "cell_type": "code",
   "execution_count": null,
   "id": "fc14be21",
   "metadata": {},
   "outputs": [],
   "source": [
    "# 9) Elabora un programa que permita al usuario ingresar 100 números enteros y luego calcule la \n",
    "# media de esos valores. (Nota: puedes probar el programa con una cantidad menor, pero debe \n",
    "# poder procesar 100 números cambiando solo un valor). \n",
    "\n",
    "contador = 0\n",
    "acc = 0\n",
    "\n",
    "for i in range(100):\n",
    "    numero_usuario = int(input(\"Ingrese un numero\"))\n",
    "    acc = acc + numero_usuario\n",
    "    contador += 1\n",
    "print(f\"La media de los valores ingresados es: {acc / contador}\")"
   ]
  },
  {
   "cell_type": "code",
   "execution_count": 1,
   "id": "5d55b701",
   "metadata": {},
   "outputs": [
    {
     "name": "stdout",
     "output_type": "stream",
     "text": [
      "987654321\n"
     ]
    }
   ],
   "source": [
    "# 10) Escribe un programa que invierta el orden de los dígitos de un número ingresado por el \n",
    "# usuario. Ejemplo: si el usuario ingresa 547, el programa debe mostrar 745.\n",
    "import math\n",
    "numero_usuario = int(input(\"Ingrese un numero\"))\n",
    "numero_invertido = ''\n",
    "\n",
    "if numero_usuario > 0:\n",
    "    while numero_usuario > 0:\n",
    "        ultimo_digito = numero_usuario % 10\n",
    "        numero_usuario = int(numero_usuario / 10)\n",
    "        numero_invertido += str(ultimo_digito)\n",
    "    print(numero_invertido)\n",
    "else:\n",
    "    print(\"Solo valores positivos\")    "
   ]
  }
 ],
 "metadata": {
  "kernelspec": {
   "display_name": "Python 3",
   "language": "python",
   "name": "python3"
  },
  "language_info": {
   "codemirror_mode": {
    "name": "ipython",
    "version": 3
   },
   "file_extension": ".py",
   "mimetype": "text/x-python",
   "name": "python",
   "nbconvert_exporter": "python",
   "pygments_lexer": "ipython3",
   "version": "3.13.5"
  }
 },
 "nbformat": 4,
 "nbformat_minor": 5
}
